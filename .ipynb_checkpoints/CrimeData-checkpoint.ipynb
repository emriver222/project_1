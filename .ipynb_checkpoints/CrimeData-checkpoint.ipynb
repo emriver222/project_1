{
 "cells": [
  {
   "cell_type": "code",
   "execution_count": 2,
   "metadata": {},
   "outputs": [],
   "source": [
    "# Dependencies\n",
    "import numpy as np\n",
    "import pandas as pd\n",
    "import matplotlib.pyplot as plt\n",
    "import requests\n",
    "import gmaps\n",
    "import json\n",
    "import datetime"
   ]
  },
  {
   "cell_type": "code",
   "execution_count": 3,
   "metadata": {},
   "outputs": [],
   "source": [
    "# Read each file\n",
    "crime_2018_p1 = \"Resources/Police_Incidents_2018.csv\"\n",
    "crime_2018_p2 = \"Resources/Police_Incidents_2018_PIMS.csv\"\n",
    "crime_2019 = \"Resources/Police_Incidents_2019.csv\""
   ]
  },
  {
   "cell_type": "code",
   "execution_count": 4,
   "metadata": {
    "scrolled": false
   },
   "outputs": [
    {
     "data": {
      "text/html": [
       "<div>\n",
       "<style scoped>\n",
       "    .dataframe tbody tr th:only-of-type {\n",
       "        vertical-align: middle;\n",
       "    }\n",
       "\n",
       "    .dataframe tbody tr th {\n",
       "        vertical-align: top;\n",
       "    }\n",
       "\n",
       "    .dataframe thead th {\n",
       "        text-align: right;\n",
       "    }\n",
       "</style>\n",
       "<table border=\"1\" class=\"dataframe\">\n",
       "  <thead>\n",
       "    <tr style=\"text-align: right;\">\n",
       "      <th></th>\n",
       "      <th>CaseNumber</th>\n",
       "      <th>ReportedDate</th>\n",
       "      <th>Offense</th>\n",
       "      <th>Description</th>\n",
       "    </tr>\n",
       "  </thead>\n",
       "  <tbody>\n",
       "    <tr>\n",
       "      <th>0</th>\n",
       "      <td>MP 2017 491339</td>\n",
       "      <td>2018-01-01T00:26:00.000Z</td>\n",
       "      <td>AUTOTH</td>\n",
       "      <td>Motor Vehicle Theft</td>\n",
       "    </tr>\n",
       "    <tr>\n",
       "      <th>1</th>\n",
       "      <td>MP 2017 491448</td>\n",
       "      <td>2018-01-01T00:38:00.000Z</td>\n",
       "      <td>ROBPAG</td>\n",
       "      <td>Robbery Per Agg</td>\n",
       "    </tr>\n",
       "    <tr>\n",
       "      <th>2</th>\n",
       "      <td>MP 2017 491390</td>\n",
       "      <td>2018-01-01T01:02:00.000Z</td>\n",
       "      <td>AUTOTH</td>\n",
       "      <td>Motor Vehicle Theft</td>\n",
       "    </tr>\n",
       "    <tr>\n",
       "      <th>3</th>\n",
       "      <td>MP 2018 000140</td>\n",
       "      <td>2018-01-01T02:05:00.000Z</td>\n",
       "      <td>ASLT3</td>\n",
       "      <td>Aslt-sgnfcnt Bdly Hm</td>\n",
       "    </tr>\n",
       "    <tr>\n",
       "      <th>4</th>\n",
       "      <td>MP 2018 000199</td>\n",
       "      <td>2018-01-01T02:20:00.000Z</td>\n",
       "      <td>ROBPER</td>\n",
       "      <td>Robbery Of Person</td>\n",
       "    </tr>\n",
       "  </tbody>\n",
       "</table>\n",
       "</div>"
      ],
      "text/plain": [
       "       CaseNumber              ReportedDate Offense           Description\n",
       "0  MP 2017 491339  2018-01-01T00:26:00.000Z  AUTOTH   Motor Vehicle Theft\n",
       "1  MP 2017 491448  2018-01-01T00:38:00.000Z  ROBPAG       Robbery Per Agg\n",
       "2  MP 2017 491390  2018-01-01T01:02:00.000Z  AUTOTH   Motor Vehicle Theft\n",
       "3  MP 2018 000140  2018-01-01T02:05:00.000Z   ASLT3  Aslt-sgnfcnt Bdly Hm\n",
       "4  MP 2018 000199  2018-01-01T02:20:00.000Z  ROBPER     Robbery Of Person"
      ]
     },
     "execution_count": 4,
     "metadata": {},
     "output_type": "execute_result"
    }
   ],
   "source": [
    "# Push each file into a DataFrame\n",
    "crime_2018_p1_df = pd.read_csv(crime_2018_p1, encoding=\"ISO-8859-1\")\n",
    "crime_2018_p2_df = pd.read_csv(crime_2018_p2, encoding=\"ISO-8859-1\")\n",
    "crime_2019_df = pd.read_csv(crime_2019, encoding=\"ISO-8859-1\")\n",
    "\n",
    "# Merge all into one\n",
    "crimes = [crime_2018_p1_df, crime_2018_p2_df, crime_2019_df]\n",
    "crime_df = pd.concat(crimes)\n",
    "\n",
    "# Cleanup column names\n",
    "crime_df = crime_df.rename(columns={\"ï»¿caseNumber\":\"CaseNumber\",\"reportedDate\":\"ReportedDate\",\n",
    "                                   \"offense\":\"Offense\",\"description\":\"Description\"})\n",
    "crime_df.head(5)"
   ]
  },
  {
   "cell_type": "code",
   "execution_count": 5,
   "metadata": {},
   "outputs": [
    {
     "name": "stderr",
     "output_type": "stream",
     "text": [
      "C:\\Users\\Joe\\Anaconda3\\envs\\PythonData\\lib\\site-packages\\pandas\\core\\arrays\\datetimes.py:1104: UserWarning: Converting to PeriodArray/Index representation will drop timezone information.\n",
      "  UserWarning,\n"
     ]
    },
    {
     "data": {
      "text/html": [
       "<div>\n",
       "<style scoped>\n",
       "    .dataframe tbody tr th:only-of-type {\n",
       "        vertical-align: middle;\n",
       "    }\n",
       "\n",
       "    .dataframe tbody tr th {\n",
       "        vertical-align: top;\n",
       "    }\n",
       "\n",
       "    .dataframe thead th {\n",
       "        text-align: right;\n",
       "    }\n",
       "</style>\n",
       "<table border=\"1\" class=\"dataframe\">\n",
       "  <thead>\n",
       "    <tr style=\"text-align: right;\">\n",
       "      <th></th>\n",
       "      <th>CaseNumber</th>\n",
       "      <th>ReportedDate</th>\n",
       "      <th>Offense</th>\n",
       "      <th>Description</th>\n",
       "      <th>ReportedYearMonth</th>\n",
       "    </tr>\n",
       "  </thead>\n",
       "  <tbody>\n",
       "    <tr>\n",
       "      <th>0</th>\n",
       "      <td>MP 2017 491339</td>\n",
       "      <td>2018-01-01 00:26:00+00:00</td>\n",
       "      <td>AUTOTH</td>\n",
       "      <td>Motor Vehicle Theft</td>\n",
       "      <td>2018-01</td>\n",
       "    </tr>\n",
       "    <tr>\n",
       "      <th>1</th>\n",
       "      <td>MP 2017 491448</td>\n",
       "      <td>2018-01-01 00:38:00+00:00</td>\n",
       "      <td>ROBPAG</td>\n",
       "      <td>Robbery Per Agg</td>\n",
       "      <td>2018-01</td>\n",
       "    </tr>\n",
       "    <tr>\n",
       "      <th>2</th>\n",
       "      <td>MP 2017 491390</td>\n",
       "      <td>2018-01-01 01:02:00+00:00</td>\n",
       "      <td>AUTOTH</td>\n",
       "      <td>Motor Vehicle Theft</td>\n",
       "      <td>2018-01</td>\n",
       "    </tr>\n",
       "    <tr>\n",
       "      <th>3</th>\n",
       "      <td>MP 2018 000140</td>\n",
       "      <td>2018-01-01 02:05:00+00:00</td>\n",
       "      <td>ASLT3</td>\n",
       "      <td>Aslt-sgnfcnt Bdly Hm</td>\n",
       "      <td>2018-01</td>\n",
       "    </tr>\n",
       "    <tr>\n",
       "      <th>4</th>\n",
       "      <td>MP 2018 000199</td>\n",
       "      <td>2018-01-01 02:20:00+00:00</td>\n",
       "      <td>ROBPER</td>\n",
       "      <td>Robbery Of Person</td>\n",
       "      <td>2018-01</td>\n",
       "    </tr>\n",
       "  </tbody>\n",
       "</table>\n",
       "</div>"
      ],
      "text/plain": [
       "       CaseNumber              ReportedDate Offense           Description  \\\n",
       "0  MP 2017 491339 2018-01-01 00:26:00+00:00  AUTOTH   Motor Vehicle Theft   \n",
       "1  MP 2017 491448 2018-01-01 00:38:00+00:00  ROBPAG       Robbery Per Agg   \n",
       "2  MP 2017 491390 2018-01-01 01:02:00+00:00  AUTOTH   Motor Vehicle Theft   \n",
       "3  MP 2018 000140 2018-01-01 02:05:00+00:00   ASLT3  Aslt-sgnfcnt Bdly Hm   \n",
       "4  MP 2018 000199 2018-01-01 02:20:00+00:00  ROBPER     Robbery Of Person   \n",
       "\n",
       "  ReportedYearMonth  \n",
       "0           2018-01  \n",
       "1           2018-01  \n",
       "2           2018-01  \n",
       "3           2018-01  \n",
       "4           2018-01  "
      ]
     },
     "execution_count": 5,
     "metadata": {},
     "output_type": "execute_result"
    }
   ],
   "source": [
    "# Verify data\n",
    "#crime_df.count()\n",
    "# Convert ReportedDate column from text to datetime, so we can then use the \n",
    "# to_period to get values to monthly values\n",
    "crime_df['ReportedDate'] = pd.to_datetime(crime_df['ReportedDate'])\n",
    "crime_df['ReportedYearMonth'] = pd.DatetimeIndex(crime_df['ReportedDate']).to_period('M')\n",
    "\n",
    "crime_df.head()"
   ]
  },
  {
   "cell_type": "code",
   "execution_count": 6,
   "metadata": {},
   "outputs": [
    {
     "data": {
      "text/plain": [
       "2019-07    2325\n",
       "2019-08    2320\n",
       "2019-09    2248\n",
       "2019-06    2239\n",
       "2019-10    2103\n",
       "2019-05    2012\n",
       "2019-11    1972\n",
       "2020-01    1882\n",
       "2018-10    1857\n",
       "2019-12    1838\n",
       "2018-07    1816\n",
       "2020-03    1791\n",
       "2018-09    1787\n",
       "2018-08    1751\n",
       "2019-04    1715\n",
       "2018-05    1674\n",
       "2018-11    1628\n",
       "2020-02    1613\n",
       "2019-01    1503\n",
       "2018-12    1490\n",
       "2018-01    1482\n",
       "2018-06    1462\n",
       "2019-03    1457\n",
       "2018-03    1405\n",
       "2018-04    1326\n",
       "2018-02    1276\n",
       "2019-02    1251\n",
       "2020-04     932\n",
       "Freq: M, Name: ReportedYearMonth, dtype: int64"
      ]
     },
     "execution_count": 6,
     "metadata": {},
     "output_type": "execute_result"
    }
   ],
   "source": [
    "# Now do some grouping, counts\n",
    "crime_counts = crime_df[\"ReportedYearMonth\"].value_counts()\n",
    "crime_counts"
   ]
  },
  {
   "cell_type": "code",
   "execution_count": 7,
   "metadata": {},
   "outputs": [
    {
     "data": {
      "text/plain": [
       "CaseNumber           47223\n",
       "ReportedDate         47223\n",
       "Offense              47223\n",
       "Description          47223\n",
       "ReportedYearMonth    47223\n",
       "dtype: int64"
      ]
     },
     "execution_count": 7,
     "metadata": {},
     "output_type": "execute_result"
    }
   ],
   "source": [
    "# Remove 2020-04, since it's a partial month\n",
    "crime_df = crime_df.loc[crime_df[\"ReportedYearMonth\"] != \"2020-04\"]\n",
    "crime_df.count()"
   ]
  },
  {
   "cell_type": "code",
   "execution_count": 8,
   "metadata": {},
   "outputs": [
    {
     "data": {
      "text/plain": [
       "2019-07    2325\n",
       "2019-08    2320\n",
       "2019-09    2248\n",
       "2019-06    2239\n",
       "2019-10    2103\n",
       "Freq: M, Name: ReportedYearMonth, dtype: int64"
      ]
     },
     "execution_count": 8,
     "metadata": {},
     "output_type": "execute_result"
    }
   ],
   "source": [
    "crime_counts = crime_df[\"ReportedYearMonth\"].value_counts()\n",
    "#type(crime_counts)\n",
    "crime_counts.head()"
   ]
  },
  {
   "cell_type": "code",
   "execution_count": 9,
   "metadata": {},
   "outputs": [
    {
     "data": {
      "text/html": [
       "<div>\n",
       "<style scoped>\n",
       "    .dataframe tbody tr th:only-of-type {\n",
       "        vertical-align: middle;\n",
       "    }\n",
       "\n",
       "    .dataframe tbody tr th {\n",
       "        vertical-align: top;\n",
       "    }\n",
       "\n",
       "    .dataframe thead th {\n",
       "        text-align: right;\n",
       "    }\n",
       "</style>\n",
       "<table border=\"1\" class=\"dataframe\">\n",
       "  <thead>\n",
       "    <tr style=\"text-align: right;\">\n",
       "      <th></th>\n",
       "      <th>CrimeCount</th>\n",
       "    </tr>\n",
       "    <tr>\n",
       "      <th>Month</th>\n",
       "      <th></th>\n",
       "    </tr>\n",
       "  </thead>\n",
       "  <tbody>\n",
       "    <tr>\n",
       "      <th>2018-01</th>\n",
       "      <td>1482</td>\n",
       "    </tr>\n",
       "    <tr>\n",
       "      <th>2018-02</th>\n",
       "      <td>1276</td>\n",
       "    </tr>\n",
       "    <tr>\n",
       "      <th>2018-03</th>\n",
       "      <td>1405</td>\n",
       "    </tr>\n",
       "    <tr>\n",
       "      <th>2018-04</th>\n",
       "      <td>1326</td>\n",
       "    </tr>\n",
       "    <tr>\n",
       "      <th>2018-05</th>\n",
       "      <td>1674</td>\n",
       "    </tr>\n",
       "    <tr>\n",
       "      <th>2018-06</th>\n",
       "      <td>1462</td>\n",
       "    </tr>\n",
       "    <tr>\n",
       "      <th>2018-07</th>\n",
       "      <td>1816</td>\n",
       "    </tr>\n",
       "    <tr>\n",
       "      <th>2018-08</th>\n",
       "      <td>1751</td>\n",
       "    </tr>\n",
       "    <tr>\n",
       "      <th>2018-09</th>\n",
       "      <td>1787</td>\n",
       "    </tr>\n",
       "    <tr>\n",
       "      <th>2018-10</th>\n",
       "      <td>1857</td>\n",
       "    </tr>\n",
       "    <tr>\n",
       "      <th>2018-11</th>\n",
       "      <td>1628</td>\n",
       "    </tr>\n",
       "    <tr>\n",
       "      <th>2018-12</th>\n",
       "      <td>1490</td>\n",
       "    </tr>\n",
       "    <tr>\n",
       "      <th>2019-01</th>\n",
       "      <td>1503</td>\n",
       "    </tr>\n",
       "    <tr>\n",
       "      <th>2019-02</th>\n",
       "      <td>1251</td>\n",
       "    </tr>\n",
       "    <tr>\n",
       "      <th>2019-03</th>\n",
       "      <td>1457</td>\n",
       "    </tr>\n",
       "    <tr>\n",
       "      <th>2019-04</th>\n",
       "      <td>1715</td>\n",
       "    </tr>\n",
       "    <tr>\n",
       "      <th>2019-05</th>\n",
       "      <td>2012</td>\n",
       "    </tr>\n",
       "    <tr>\n",
       "      <th>2019-06</th>\n",
       "      <td>2239</td>\n",
       "    </tr>\n",
       "    <tr>\n",
       "      <th>2019-07</th>\n",
       "      <td>2325</td>\n",
       "    </tr>\n",
       "    <tr>\n",
       "      <th>2019-08</th>\n",
       "      <td>2320</td>\n",
       "    </tr>\n",
       "    <tr>\n",
       "      <th>2019-09</th>\n",
       "      <td>2248</td>\n",
       "    </tr>\n",
       "    <tr>\n",
       "      <th>2019-10</th>\n",
       "      <td>2103</td>\n",
       "    </tr>\n",
       "    <tr>\n",
       "      <th>2019-11</th>\n",
       "      <td>1972</td>\n",
       "    </tr>\n",
       "    <tr>\n",
       "      <th>2019-12</th>\n",
       "      <td>1838</td>\n",
       "    </tr>\n",
       "    <tr>\n",
       "      <th>2020-01</th>\n",
       "      <td>1882</td>\n",
       "    </tr>\n",
       "    <tr>\n",
       "      <th>2020-02</th>\n",
       "      <td>1613</td>\n",
       "    </tr>\n",
       "    <tr>\n",
       "      <th>2020-03</th>\n",
       "      <td>1791</td>\n",
       "    </tr>\n",
       "  </tbody>\n",
       "</table>\n",
       "</div>"
      ],
      "text/plain": [
       "         CrimeCount\n",
       "Month              \n",
       "2018-01        1482\n",
       "2018-02        1276\n",
       "2018-03        1405\n",
       "2018-04        1326\n",
       "2018-05        1674\n",
       "2018-06        1462\n",
       "2018-07        1816\n",
       "2018-08        1751\n",
       "2018-09        1787\n",
       "2018-10        1857\n",
       "2018-11        1628\n",
       "2018-12        1490\n",
       "2019-01        1503\n",
       "2019-02        1251\n",
       "2019-03        1457\n",
       "2019-04        1715\n",
       "2019-05        2012\n",
       "2019-06        2239\n",
       "2019-07        2325\n",
       "2019-08        2320\n",
       "2019-09        2248\n",
       "2019-10        2103\n",
       "2019-11        1972\n",
       "2019-12        1838\n",
       "2020-01        1882\n",
       "2020-02        1613\n",
       "2020-03        1791"
      ]
     },
     "execution_count": 9,
     "metadata": {},
     "output_type": "execute_result"
    }
   ],
   "source": [
    "monthly_crime_df = pd.DataFrame(crime_counts)\n",
    "monthly_crime_df.reset_index(inplace=True)\n",
    "monthly_crime_df = monthly_crime_df.sort_values(\"index\", ascending=True)\n",
    "monthly_crime_df = monthly_crime_df.rename(columns={\"index\":\"Month\",\"ReportedYearMonth\":\"CrimeCount\"})\n",
    "\n",
    "monthly_crime_df.set_index(\"Month\", inplace=True)\n",
    "monthly_crime_df\n"
   ]
  },
  {
   "cell_type": "code",
   "execution_count": 10,
   "metadata": {},
   "outputs": [
    {
     "data": {
      "text/plain": [
       "Month         object\n",
       "CrimeCount     int64\n",
       "dtype: object"
      ]
     },
     "execution_count": 10,
     "metadata": {},
     "output_type": "execute_result"
    }
   ],
   "source": [
    "# Convert time column to a string/object type\n",
    "monthly_crime_df.index=monthly_crime_df.index.to_series().astype(str)\n",
    "#print(monthly_crime_df.index)\n",
    "monthly_crime_df.reset_index(inplace=True)\n",
    "monthly_crime_df.dtypes"
   ]
  },
  {
   "cell_type": "code",
   "execution_count": 17,
   "metadata": {},
   "outputs": [
    {
     "data": {
      "image/png": "[encoded data removed]",
      "text/plain": [
       "<Figure size 432x288 with 1 Axes>"
      ]
     },
     "metadata": {
      "needs_background": "light"
     },
     "output_type": "display_data"
    }
   ],
   "source": [
    "# Bar chart of monthly crime rate\n",
    "months = monthly_crime_df[\"Month\"].tolist()\n",
    "crimes = monthly_crime_df[\"CrimeCount\"].tolist()\n",
    "\n",
    "x_axis = np.arange(len(months))\n",
    "plt.bar(x_axis, crimes, color='r', alpha=0.5, align=\"center\")\n",
    "plt.xlabel(\"Months\")\n",
    "plt.ylabel(\"# of Crimes per Month\")\n",
    "tick_locations = [month for month in x_axis]\n",
    "plt.xticks(tick_locations, months, rotation=90);\n",
    "plt.savefig(\"Output/MonthlyCrimeRate_BarChart.png\")\n",
    "plt.show()"
   ]
  },
  {
   "cell_type": "code",
   "execution_count": 18,
   "metadata": {},
   "outputs": [
    {
     "data": {
      "image/png": "[encoded data removed]",
      "text/plain": [
       "<Figure size 432x288 with 1 Axes>"
      ]
     },
     "metadata": {
      "needs_background": "light"
     },
     "output_type": "display_data"
    }
   ],
   "source": [
    "# Line chart of monthly crime rate\n",
    "plt.plot(x_axis, crimes)\n",
    "tick_locations = [month for month in x_axis]\n",
    "plt.xlabel(\"Months\")\n",
    "plt.ylabel(\"# of Crimes per Month\")\n",
    "plt.xticks(tick_locations, months, rotation=90);\n",
    "plt.savefig(\"Output/MonthlyCrimeRate_LineGraph.png\")\n",
    "plt.show()"
   ]
  },
  {
   "cell_type": "code",
   "execution_count": 19,
   "metadata": {},
   "outputs": [],
   "source": [
    "monthly_crime_df.to_csv(\"Output/CrimeData_Monthly.csv\", index=False, header=True)"
   ]
  },
  {
   "cell_type": "code",
   "execution_count": null,
   "metadata": {},
   "outputs": [],
   "source": []
  }
 ],
 "metadata": {
  "kernelspec": {
   "display_name": "Python 3",
   "language": "python",
   "name": "python3"
  },
  "language_info": {
   "codemirror_mode": {
    "name": "ipython",
    "version": 3
   },
   "file_extension": ".py",
   "mimetype": "text/x-python",
   "name": "python",
   "nbconvert_exporter": "python",
   "pygments_lexer": "ipython3",
   "version": "3.6.10"
  }
 },
 "nbformat": 4,
 "nbformat_minor": 4
}
